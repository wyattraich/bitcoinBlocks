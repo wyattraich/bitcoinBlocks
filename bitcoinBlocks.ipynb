{
 "cells": [
  {
   "cell_type": "code",
   "execution_count": 1,
   "metadata": {},
   "outputs": [],
   "source": [
    "import os\n",
    "#change file path and ignore \n",
    "os.environ[\"GOOGLE_APPLICATION_CREDENTIALS\"]=\"path_to_json\""
   ]
  },
  {
   "cell_type": "code",
   "execution_count": 2,
   "metadata": {},
   "outputs": [],
   "source": [
    "from datetime import datetime, date\n",
    "import pandas as pd\n",
    "from google.cloud import bigquery\n",
    "from bq_helper import BigQueryHelper\n",
    "import pyarrow\n",
    "\n",
    "bqh = BigQueryHelper(\"bigquery-public-data\", \"crypto_bitcoin\")\n",
    "default_val = \"2009-01-03 18:15:05+00:00\" # creation timestamp of the first Bitcoin block\n",
    "\n",
    "query = f\"\"\"\n",
    "SELECT timestamp,\n",
    "       Lag(timestamp, 1, \"{default_val}\") OVER (ORDER BY timestamp ASC) as timestamp_prev,\n",
    "       TIMESTAMP_DIFF(timestamp, Lag(timestamp, 1, \"{default_val}\") OVER \n",
    "         (ORDER BY timestamp ASC), SECOND) AS seconds_elapsed\n",
    "FROM `bigquery-public-data.crypto_bitcoin.blocks` blocks\n",
    "ORDER BY timestamp ASC;\n",
    "\"\"\"\n",
    "\n",
    "df = bqh.query_to_pandas(query)\n",
    "dfPost9 = df.copy(deep=True)"
   ]
  },
  {
   "cell_type": "code",
   "execution_count": 148,
   "metadata": {},
   "outputs": [
    {
     "name": "stdout",
     "output_type": "stream",
     "text": [
      "Consecutive mined blocks with a 2hr or greater timestamp difference occurred 142 times throughout Bitcoin's history,\n",
      "with only 5 occurring after 2009.\n"
     ]
    }
   ],
   "source": [
    "TWO_HOURS = 7200 # in seconds\n",
    "#ONE_HOUR = 3600\n",
    "#THIRTY_MINS = 1800\n",
    "#print(df)\n",
    "#print(df.shape)\n",
    "#df1 = df[df.seconds_elapsed >= ONE_HOUR]\n",
    "#df30 = df[df.seconds_elapsed >= THIRTY_MINS]\n",
    "df2 = df[df.seconds_elapsed >= TWO_HOURS]\n",
    "\n",
    "q2_ans1 = df2.shape[0]\n",
    "print(\"Consecutive mined blocks with a 2hr or greater timestamp difference occurred \" + str(q2_ans1) + \" times throughout Bitcoin's history,\")\n",
    "\n",
    "df3 = df2.copy(deep=True)\n",
    "df3.loc[:, 'year'] = df2.apply(lambda row: str(row.timestamp)[:4], axis=1)\n",
    "df3 = df3[df3['year'] != \"2009\"]\n",
    "q2_ans2 = df3.shape[0]\n",
    "print(\"with only \" + str(q2_ans2) + \" occurring after 2009.\")"
   ]
  },
  {
   "cell_type": "code",
   "execution_count": 149,
   "metadata": {},
   "outputs": [
    {
     "name": "stdout",
     "output_type": "stream",
     "text": [
      "On average, we see a block that takes 2hr+ to mine added every 33 days.\n",
      "However, post-2009, the we only see one every 886 days.\n"
     ]
    }
   ],
   "source": [
    "d0 = date(2009, 1, 3) # first block date added\n",
    "d1 = date(2010, 1, 1) # first day after 2009\n",
    "time_since_origin = date.today() - d0\n",
    "time_since_2010 = date.today() - d1\n",
    "\n",
    "q1_ans1 = int(time_since_origin.days / q2_ans1)\n",
    "q1_ans2 = int(time_since_2010.days / q2_ans2)\n",
    "print(\"On average, we see a block that takes 2hr+ to mine added every \" + str(q1_ans1) + \" days.\")\n",
    "print(\"However, post-2009, the we only see one every \" + str(q1_ans2) + \" days.\")"
   ]
  },
  {
   "cell_type": "code",
   "execution_count": 150,
   "metadata": {},
   "outputs": [
    {
     "name": "stdout",
     "output_type": "stream",
     "text": [
      "The observed probability of a 2hr+ consecutive block after 2009 is: 9.399202947590044e-05\n"
     ]
    }
   ],
   "source": [
    "# Observed probability, post-2009\n",
    "observed_p = q2_ans2 / (time_since_2010.days * 12) # divide by two to calculate 2 hour intervals, not 1 hr\n",
    "print(\"The observed probability of a 2hr+ consecutive block after 2009 is: \" + str(observed_p))"
   ]
  },
  {
   "cell_type": "code",
   "execution_count": 151,
   "metadata": {},
   "outputs": [],
   "source": [
    "#remove all data prior to 2010\n",
    "dfPost9.loc[:, 'year'] = df.apply(lambda row: str(row.timestamp)[:4], axis=1)\n",
    "dfPost9 = dfPost9[dfPost9['year'] != \"2009\"]"
   ]
  },
  {
   "cell_type": "code",
   "execution_count": 152,
   "metadata": {},
   "outputs": [
    {
     "name": "stdout",
     "output_type": "stream",
     "text": [
      "The expected probability from 2010 on of a 2hr+ consecutive block is : 1.0240353922213684e-08. This was found using the exponential pdf with a mean of 10 minutes evaluated at two hours to model the poisson process. As seen in the plot below, the actual data follows the expected distribution fairly well. However, this predicted value is a few order of magnitudes different than the observed probabilty of: 9.399202947590044e-05.\n",
      "These outlier mining times are exceptions to the bitcoins standard mining Poisson model as there is a human and software variance involved in the mining process which is not accounted for. Therefore, at these far outlier times, it is not suprising to see larger errors from the expected probability. For example, occurances such as clock drift, and poorly configured mining software could introduce extra variance into the real system and was common in the earlier days of bitcoin mining.\n",
      "Overall the byweekly difficulty adjustments to maintain a mean block mining time of 10 minutes has worked suprisingly well considering the advancements in hardware in the time since Bitcoins inception.\n"
     ]
    },
    {
     "data": {
      "image/png": "[encoded data removed]",
      "text/plain": [
       "<Figure size 432x288 with 1 Axes>"
      ]
     },
     "metadata": {
      "needs_background": "light"
     },
     "output_type": "display_data"
    }
   ],
   "source": [
    "import numpy as np\n",
    "import scipy.stats as stats\n",
    "from matplotlib import pyplot as plt\n",
    "\n",
    "#bin block times\n",
    "numBins = max(dfPost9.seconds_elapsed)\n",
    "bins = np.linspace(1,numBins,numBins)\n",
    "hist, edges = np.histogram(\n",
    "    dfPost9.seconds_elapsed,\n",
    "    bins=numBins,\n",
    "    range=(1, numBins),\n",
    "    density=False)\n",
    "mean = 600 #seconds\n",
    "loc = 0\n",
    "\n",
    "xvalues = np.linspace(stats.expon.ppf(0.01, loc, mean), stats.expon.ppf(0.999999999999, loc, mean), numBins)\n",
    "plt.plot(xvalues, stats.expon.pdf(xvalues,loc,mean)*(dfPost9.shape[0]))\n",
    "plt.scatter(bins,hist,alpha=0.5,color=\"red\",marker=\".\")\n",
    "plt.xscale(\"log\")\n",
    "plt.title('Bitcoin Block Mining Time Distribution')\n",
    "plt.xlabel('Seconds to Mine')\n",
    "plt.ylabel('Number of Blocks')\n",
    "\n",
    "\n",
    "predicted_p = stats.expon.pdf(7200,loc,mean)\n",
    "percent_error = ((observed_p-predicted_p)/predicted_p)*100\n",
    "\n",
    "print(\"The expected probability from 2010 on of a 2hr+ consecutive block is : \" + str(predicted_p) + \". This was found using the exponential pdf with a mean of 10 minutes evaluated at two hours to model the poisson process. As seen in the plot below, the actual data follows the expected distribution fairly well. However, this predicted value is a few order of magnitudes different than the observed probabilty of: \" + str(observed_p) + \".\")\n",
    "print(\"These outlier mining times are exceptions to the bitcoins standard mining Poisson model as there is a human and software variance involved in the mining process which is not accounted for. Therefore, at these far outlier times, it is not suprising to see larger errors from the expected probability. For example, occurances such as clock drift, and poorly configured mining software could introduce extra variance into the real system and was common in the earlier days of bitcoin mining.\")\n",
    "print(\"Overall the byweekly difficulty adjustments to maintain a mean block mining time of 10 minutes has worked suprisingly well considering the advancements in hardware in the time since Bitcoins inception.\")"
   ]
  },
  {
   "cell_type": "code",
   "execution_count": 153,
   "metadata": {},
   "outputs": [],
   "source": [
    "#create month column\n",
    "dfPost9.loc[:, 'month'] = df.apply(lambda row: str(row.timestamp)[5:7], axis=1)"
   ]
  },
  {
   "cell_type": "code",
   "execution_count": 154,
   "metadata": {},
   "outputs": [],
   "source": [
    "#sliding window average of month time intervals\n",
    "twenty10 = int(str(dfPost9.iloc[0].timestamp)[:4])\n",
    "currentYear = int(str(dfPost9.iloc[-1].timestamp)[:4])\n",
    "\n",
    "movingAverageList=[]\n",
    "monthsList=[]\n",
    "k=0\n",
    "for i in range(twenty10,currentYear+1):\n",
    "    for j in range(1,13):\n",
    "        if j<10:\n",
    "            j=\"0\"+str(j)\n",
    "        else:\n",
    "            j = str(j)\n",
    "        dfMonth = dfPost9[(dfPost9['year']==str(i)) & (dfPost9['month']==j)]\n",
    "        if(dfMonth.shape[0]>0):\n",
    "            averageTime = sum(dfMonth.seconds_elapsed)/dfMonth.shape[0]\n",
    "            movingAverageList.append(averageTime)\n",
    "            monthsList.append(k)\n",
    "            k=k+1"
   ]
  },
  {
   "cell_type": "code",
   "execution_count": 155,
   "metadata": {},
   "outputs": [
    {
     "name": "stdout",
     "output_type": "stream",
     "text": [
      "69.17808219178082% of the mean monthly times fall within 2sigma of the observed mean\n",
      "65.75342465753424% of the mean monthly times fall within 2sigma of the expected mean\n",
      "As the mean of the Poisson Distribution grows over 10, the normal distribution becomes a reasonable approximation. Therefore, with a mean of 600, I thought it would be interesting to see what percentage of the monthly block mine times fell within one sigma of the mean. In both cases of the actual and expected means, near 68% of the actual data falls within one sigma confirming that the probability of block mining times closesly follow the underlying poisson process and that at high means, it is reasonable to approximate a poisson distribution with a normal distribution.\n"
     ]
    },
    {
     "data": {
      "image/png": "[encoded data removed]",
      "text/plain": [
       "<Figure size 432x288 with 1 Axes>"
      ]
     },
     "metadata": {
      "needs_background": "light"
     },
     "output_type": "display_data"
    },
    {
     "data": {
      "image/png": "[encoded data removed]",
      "text/plain": [
       "<Figure size 432x288 with 1 Axes>"
      ]
     },
     "metadata": {
      "needs_background": "light"
     },
     "output_type": "display_data"
    }
   ],
   "source": [
    "\n",
    "#in poisson distributions, the variance=mean, so in this case variance=600 and std_deviation=sqrt(600)\n",
    "\n",
    "observedMeanTime = sum(dfPost9.seconds_elapsed)/dfPost9.shape[0]\n",
    "observed2Sigma = 2*np.sqrt(observedMeanTime)\n",
    "\n",
    "intendedMeanTime = 600\n",
    "intended2Sigma = 2*np.sqrt(600)\n",
    "\n",
    "plt.figure()\n",
    "plt.scatter(monthsList, movingAverageList, color=\"green\", marker=\".\")\n",
    "plt.plot(monthsList, observedMeanTime*np.ones(len(monthsList)))\n",
    "plt.plot(monthsList, (observedMeanTime+observed2Sigma)*np.ones(len(monthsList)), color=\"red\")\n",
    "plt.plot(monthsList, (observedMeanTime-observed2Sigma)*np.ones(len(monthsList)), color=\"red\")\n",
    "\n",
    "#percent of mean monthly times that fall within observed 2 sigma\n",
    "boolList = ((movingAverageList<=observedMeanTime+observed2Sigma) & (movingAverageList>=observedMeanTime-observed2Sigma))\n",
    "inObserved2Sigma = list(compress(movingAverageList,boolList))\n",
    "percentInObserved2Sigma = len(inObserved2Sigma)/len(monthsList)\n",
    "print( str((percentInObserved2Sigma*100)) + \"% of the mean monthly times fall within 2sigma of the observed mean\")\n",
    "\n",
    "plt.figure()\n",
    "plt.scatter(monthsList, movingAverageList, color=\"green\", marker=\".\")\n",
    "plt.plot(monthsList, intendedMeanTime*np.ones(len(monthsList)))\n",
    "plt.plot(monthsList, (intendedMeanTime+intended2Sigma)*np.ones(len(monthsList)), color=\"red\")\n",
    "plt.plot(monthsList, (intendedMeanTime-intended2Sigma)*np.ones(len(monthsList)), color=\"red\")\n",
    "\n",
    "boolList = ((movingAverageList<=intendedMeanTime+intended2Sigma) & (movingAverageList>=intendedMeanTime-intended2Sigma))\n",
    "inIntended2Sigma = list(compress(movingAverageList,boolList))\n",
    "percentInIntended2Sigma = len(inIntended2Sigma)/len(monthsList)\n",
    "print(str((percentInIntended2Sigma*100)) + \"% of the mean monthly times fall within 2sigma of the expected mean\")\n",
    "print(\"As the mean of the Poisson Distribution grows over 10, the normal distribution becomes a reasonable approximation. Therefore, with a mean of 600, I thought it would be interesting to see what percentage of the monthly block mine times fell within one sigma of the mean. In both cases of the actual and expected means, near 68% of the actual data falls within one sigma confirming that the probability of block mining times closesly follow the underlying poisson process and that at high means, it is reasonable to approximate a poisson distribution with a normal distribution.\")"
   ]
  },
  {
   "cell_type": "code",
   "execution_count": null,
   "metadata": {},
   "outputs": [],
   "source": []
  }
 ],
 "metadata": {
  "kernelspec": {
   "display_name": "Python 3",
   "language": "python",
   "name": "python3"
  },
  "language_info": {
   "codemirror_mode": {
    "name": "ipython",
    "version": 3
   },
   "file_extension": ".py",
   "mimetype": "text/x-python",
   "name": "python",
   "nbconvert_exporter": "python",
   "pygments_lexer": "ipython3",
   "version": "3.6.8"
  }
 },
 "nbformat": 4,
 "nbformat_minor": 2
}
